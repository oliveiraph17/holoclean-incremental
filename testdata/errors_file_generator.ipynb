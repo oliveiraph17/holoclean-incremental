{
 "cells": [
  {
   "cell_type": "code",
   "execution_count": 13,
   "metadata": {},
   "outputs": [],
   "source": [
    "import pandas as pd\n",
    "\n",
    "dataset_name = 'adult_3'\n",
    "\n",
    "clean_df = pd.read_csv('confidential/' + dataset_name + '/' + dataset_name + '_clean.csv')\n",
    "dataset_df = pd.read_csv('confidential/' + dataset_name + '/' + dataset_name + '.csv')"
   ]
  },
  {
   "cell_type": "code",
   "execution_count": 14,
   "metadata": {},
   "outputs": [],
   "source": [
    "errors_df_rows = []\n",
    "count = 0\n",
    "for i in range(len(dataset_df.index)):\n",
    "    for j in range(len(dataset_df.columns)):\n",
    "        if str(dataset_df.iloc[i, j]) != str(clean_df.iloc[count, 2]):\n",
    "            errors_dict = {'_tid_': clean_df.iloc[count, 0],\n",
    "                          'attribute': clean_df.iloc[count, 1]}\n",
    "            errors_df_rows.append(errors_dict)\n",
    "        count += 1\n",
    "\n",
    "errors_df = pd.DataFrame(errors_df_rows)\n",
    "\n",
    "errors_df.to_csv('confidential/' + dataset_name + '/' + dataset_name + '_errors.csv', index=False)"
   ]
  },
  {
   "cell_type": "code",
   "execution_count": 13,
   "metadata": {},
   "outputs": [
    {
     "name": "stdout",
     "output_type": "stream",
     "text": [
      "Total errors: 293\n"
     ]
    },
    {
     "data": {
      "text/html": [
       "<div>\n",
       "<style scoped>\n",
       "    .dataframe tbody tr th:only-of-type {\n",
       "        vertical-align: middle;\n",
       "    }\n",
       "\n",
       "    .dataframe tbody tr th {\n",
       "        vertical-align: top;\n",
       "    }\n",
       "\n",
       "    .dataframe thead th {\n",
       "        text-align: right;\n",
       "    }\n",
       "</style>\n",
       "<table border=\"1\" class=\"dataframe\">\n",
       "  <thead>\n",
       "    <tr style=\"text-align: right;\">\n",
       "      <th></th>\n",
       "      <th>_tid_</th>\n",
       "    </tr>\n",
       "    <tr>\n",
       "      <th>attribute</th>\n",
       "      <th></th>\n",
       "    </tr>\n",
       "  </thead>\n",
       "  <tbody>\n",
       "    <tr>\n",
       "      <th>address</th>\n",
       "      <td>20</td>\n",
       "    </tr>\n",
       "    <tr>\n",
       "      <th>city</th>\n",
       "      <td>18</td>\n",
       "    </tr>\n",
       "    <tr>\n",
       "      <th>dbaname</th>\n",
       "      <td>1</td>\n",
       "    </tr>\n",
       "    <tr>\n",
       "      <th>facilitytype</th>\n",
       "      <td>250</td>\n",
       "    </tr>\n",
       "    <tr>\n",
       "      <th>zip</th>\n",
       "      <td>4</td>\n",
       "    </tr>\n",
       "  </tbody>\n",
       "</table>\n",
       "</div>"
      ],
      "text/plain": [
       "              _tid_\n",
       "attribute          \n",
       "address          20\n",
       "city             18\n",
       "dbaname           1\n",
       "facilitytype    250\n",
       "zip               4"
      ]
     },
     "execution_count": 13,
     "metadata": {},
     "output_type": "execute_result"
    }
   ],
   "source": [
    "# Counts errors per attribute\n",
    "\n",
    "import pandas as pd\n",
    "\n",
    "dataset_name = 'food5k'\n",
    "\n",
    "dataset_df = pd.read_csv(dataset_name + '/' + dataset_name + '_errors.csv')\n",
    "\n",
    "print('Total errors: %d' % len(dataset_df.index))\n",
    "\n",
    "dataset_df.groupby(['attribute']).count()"
   ]
  },
  {
   "cell_type": "code",
   "execution_count": null,
   "metadata": {},
   "outputs": [],
   "source": []
  }
 ],
 "metadata": {
  "kernelspec": {
   "display_name": "Python 3",
   "language": "python",
   "name": "python3"
  },
  "language_info": {
   "codemirror_mode": {
    "name": "ipython",
    "version": 3
   },
   "file_extension": ".py",
   "mimetype": "text/x-python",
   "name": "python",
   "nbconvert_exporter": "python",
   "pygments_lexer": "ipython3",
   "version": "3.6.8"
  }
 },
 "nbformat": 4,
 "nbformat_minor": 2
}
