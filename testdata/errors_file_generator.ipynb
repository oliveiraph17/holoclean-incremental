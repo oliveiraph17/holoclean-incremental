{
 "cells": [
  {
   "cell_type": "code",
   "execution_count": 13,
   "metadata": {},
   "outputs": [],
   "source": [
    "import pandas as pd\n",
    "\n",
    "dataset_name = 'adult_3'\n",
    "\n",
    "clean_df = pd.read_csv('confidential/' + dataset_name + '/' + dataset_name + '_clean.csv')\n",
    "dataset_df = pd.read_csv('confidential/' + dataset_name + '/' + dataset_name + '.csv')"
   ]
  },
  {
   "cell_type": "code",
   "execution_count": 14,
   "metadata": {},
   "outputs": [],
   "source": [
    "errors_df_rows = []\n",
    "count = 0\n",
    "for i in range(len(dataset_df.index)):\n",
    "    for j in range(len(dataset_df.columns)):\n",
    "        if str(dataset_df.iloc[i, j]) != str(clean_df.iloc[count, 2]):\n",
    "            errors_dict = {'_tid_': clean_df.iloc[count, 0],\n",
    "                          'attribute': clean_df.iloc[count, 1]}\n",
    "            errors_df_rows.append(errors_dict)\n",
    "        count += 1\n",
    "\n",
    "errors_df = pd.DataFrame(errors_df_rows)\n",
    "\n",
    "errors_df.to_csv('confidential/' + dataset_name + '/' + dataset_name + '_errors.csv', index=False)"
   ]
  },
  {
   "cell_type": "code",
   "execution_count": 12,
   "metadata": {},
   "outputs": [
    {
     "name": "stdout",
     "output_type": "stream",
     "text": [
      "Total errors: 84227\n",
      "Errors per attribute\n"
     ]
    },
    {
     "data": {
      "text/html": [
       "<div>\n",
       "<style scoped>\n",
       "    .dataframe tbody tr th:only-of-type {\n",
       "        vertical-align: middle;\n",
       "    }\n",
       "\n",
       "    .dataframe tbody tr th {\n",
       "        vertical-align: top;\n",
       "    }\n",
       "\n",
       "    .dataframe thead th {\n",
       "        text-align: right;\n",
       "    }\n",
       "</style>\n",
       "<table border=\"1\" class=\"dataframe\">\n",
       "  <thead>\n",
       "    <tr style=\"text-align: right;\">\n",
       "      <th></th>\n",
       "      <th>_tid_</th>\n",
       "    </tr>\n",
       "    <tr>\n",
       "      <th>attribute</th>\n",
       "      <th></th>\n",
       "    </tr>\n",
       "  </thead>\n",
       "  <tbody>\n",
       "    <tr>\n",
       "      <th>ADDR_PCT_CD</th>\n",
       "      <td>6479</td>\n",
       "    </tr>\n",
       "    <tr>\n",
       "      <th>BORO_NM</th>\n",
       "      <td>6479</td>\n",
       "    </tr>\n",
       "    <tr>\n",
       "      <th>CRM_ATPT_CPTD_CD</th>\n",
       "      <td>6479</td>\n",
       "    </tr>\n",
       "    <tr>\n",
       "      <th>JURISDICTION_CODE</th>\n",
       "      <td>6479</td>\n",
       "    </tr>\n",
       "    <tr>\n",
       "      <th>JURIS_DESC</th>\n",
       "      <td>6479</td>\n",
       "    </tr>\n",
       "    <tr>\n",
       "      <th>KY_CD</th>\n",
       "      <td>6479</td>\n",
       "    </tr>\n",
       "    <tr>\n",
       "      <th>LAW_CAT_CD</th>\n",
       "      <td>6479</td>\n",
       "    </tr>\n",
       "    <tr>\n",
       "      <th>LOC_OF_OCCUR_DESC</th>\n",
       "      <td>6479</td>\n",
       "    </tr>\n",
       "    <tr>\n",
       "      <th>OFNS_DESC</th>\n",
       "      <td>6479</td>\n",
       "    </tr>\n",
       "    <tr>\n",
       "      <th>PATROL_BORO</th>\n",
       "      <td>6479</td>\n",
       "    </tr>\n",
       "    <tr>\n",
       "      <th>PD_CD</th>\n",
       "      <td>6479</td>\n",
       "    </tr>\n",
       "    <tr>\n",
       "      <th>PD_DESC</th>\n",
       "      <td>6479</td>\n",
       "    </tr>\n",
       "    <tr>\n",
       "      <th>PREM_TYP_DESC</th>\n",
       "      <td>6479</td>\n",
       "    </tr>\n",
       "  </tbody>\n",
       "</table>\n",
       "</div>"
      ],
      "text/plain": [
       "                   _tid_\n",
       "attribute               \n",
       "ADDR_PCT_CD         6479\n",
       "BORO_NM             6479\n",
       "CRM_ATPT_CPTD_CD    6479\n",
       "JURISDICTION_CODE   6479\n",
       "JURIS_DESC          6479\n",
       "KY_CD               6479\n",
       "LAW_CAT_CD          6479\n",
       "LOC_OF_OCCUR_DESC   6479\n",
       "OFNS_DESC           6479\n",
       "PATROL_BORO         6479\n",
       "PD_CD               6479\n",
       "PD_DESC             6479\n",
       "PREM_TYP_DESC       6479"
      ]
     },
     "execution_count": 12,
     "metadata": {},
     "output_type": "execute_result"
    }
   ],
   "source": [
    "# Counts errors per attribute\n",
    "\n",
    "import pandas as pd\n",
    "\n",
    "dataset_name = 'nypd6'\n",
    "\n",
    "dataset_df = pd.read_csv(dataset_name + '/' + dataset_name + '_errors.csv')\n",
    "\n",
    "print('Total errors: %d' % len(dataset_df.index))\n",
    "\n",
    "dataset_df.groupby(['attribute']).count()"
   ]
  },
  {
   "cell_type": "code",
   "execution_count": null,
   "metadata": {},
   "outputs": [],
   "source": []
  }
 ],
 "metadata": {
  "kernelspec": {
   "display_name": "Python 3",
   "language": "python",
   "name": "python3"
  },
  "language_info": {
   "codemirror_mode": {
    "name": "ipython",
    "version": 3
   },
   "file_extension": ".py",
   "mimetype": "text/x-python",
   "name": "python",
   "nbconvert_exporter": "python",
   "pygments_lexer": "ipython3",
   "version": "3.6.8"
  }
 },
 "nbformat": 4,
 "nbformat_minor": 2
}
