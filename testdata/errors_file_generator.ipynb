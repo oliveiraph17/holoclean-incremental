{
 "cells": [
  {
   "cell_type": "code",
   "execution_count": 13,
   "metadata": {},
   "outputs": [],
   "source": [
    "import pandas as pd\n",
    "\n",
    "dataset_name = 'adult_3'\n",
    "\n",
    "clean_df = pd.read_csv('confidential/' + dataset_name + '/' + dataset_name + '_clean.csv')\n",
    "dataset_df = pd.read_csv('confidential/' + dataset_name + '/' + dataset_name + '.csv')"
   ]
  },
  {
   "cell_type": "code",
   "execution_count": 14,
   "metadata": {},
   "outputs": [],
   "source": [
    "errors_df_rows = []\n",
    "count = 0\n",
    "for i in range(len(dataset_df.index)):\n",
    "    for j in range(len(dataset_df.columns)):\n",
    "        if str(dataset_df.iloc[i, j]) != str(clean_df.iloc[count, 2]):\n",
    "            errors_dict = {'_tid_': clean_df.iloc[count, 0],\n",
    "                          'attribute': clean_df.iloc[count, 1]}\n",
    "            errors_df_rows.append(errors_dict)\n",
    "        count += 1\n",
    "\n",
    "errors_df = pd.DataFrame(errors_df_rows)\n",
    "\n",
    "errors_df.to_csv('confidential/' + dataset_name + '/' + dataset_name + '_errors.csv', index=False)"
   ]
  },
  {
   "cell_type": "code",
   "execution_count": null,
   "metadata": {},
   "outputs": [],
   "source": []
  }
 ],
 "metadata": {
  "kernelspec": {
   "display_name": "Python 3",
   "language": "python",
   "name": "python3"
  },
  "language_info": {
   "codemirror_mode": {
    "name": "ipython",
    "version": 3
   },
   "file_extension": ".py",
   "mimetype": "text/x-python",
   "name": "python",
   "nbconvert_exporter": "python",
   "pygments_lexer": "ipython3",
   "version": "3.7.3"
  }
 },
 "nbformat": 4,
 "nbformat_minor": 2
}
