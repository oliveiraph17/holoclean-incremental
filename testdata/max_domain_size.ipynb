{
 "cells": [
  {
   "cell_type": "code",
   "execution_count": 11,
   "metadata": {},
   "outputs": [
    {
     "name": "stdout",
     "output_type": "stream",
     "text": [
      "inspectionid: 5000\n",
      "dbaname: 3267\n",
      "akaname: 3230\n",
      "license: 3702\n",
      "facilitytype: 82\n",
      "risk: 4\n",
      "address: 3182\n",
      "city: 4\n",
      "state: 1\n",
      "zip: 59\n",
      "inspectiondate: 320\n",
      "inspectiontype: 37\n",
      "results: 4\n",
      "latitude: 3123\n",
      "longitude: 3125\n"
     ]
    }
   ],
   "source": [
    "import pandas as pd\n",
    "import math\n",
    "\n",
    "ds_name = 'food5k'\n",
    "ds = pd.read_csv(ds_name + '/' + ds_name + '.csv')\n",
    "\n",
    "max_domain_size = 0\n",
    "for column in ds.columns:\n",
    "    current_domain_size = len(ds[column].unique())\n",
    "    print(str(column) + ': ' + str(current_domain_size))\n",
    "    if current_domain_size > max_domain_size:\n",
    "        max_domain_size = current_domain_size\n",
    "\n",
    "# pruned_max_domain_size = math.ceil(max_domain_size / 3)\n",
    "\n",
    "# pruned_max_domain_size"
   ]
  },
  {
   "cell_type": "code",
   "execution_count": null,
   "metadata": {},
   "outputs": [],
   "source": []
  }
 ],
 "metadata": {
  "kernelspec": {
   "display_name": "Python 3",
   "language": "python",
   "name": "python3"
  },
  "language_info": {
   "codemirror_mode": {
    "name": "ipython",
    "version": 3
   },
   "file_extension": ".py",
   "mimetype": "text/x-python",
   "name": "python",
   "nbconvert_exporter": "python",
   "pygments_lexer": "ipython3",
   "version": "3.7.3"
  }
 },
 "nbformat": 4,
 "nbformat_minor": 2
}
