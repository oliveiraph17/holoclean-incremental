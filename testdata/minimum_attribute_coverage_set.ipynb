{
 "cells": [
  {
   "cell_type": "code",
   "execution_count": 21,
   "metadata": {},
   "outputs": [
    {
     "data": {
      "text/plain": [
       "array(['name', 'surname', 'birthyear', 'birthplace', 'position', 'team',\n",
       "       'city', 'stadium', 'season', 'manager'], dtype=object)"
      ]
     },
     "execution_count": 21,
     "metadata": {},
     "output_type": "execute_result"
    }
   ],
   "source": [
    "import pandas as pd\n",
    "\n",
    "ds = pd.read_csv('soccer/soccer.csv')\n",
    "attr = 'name'\n",
    "nulls_df = pd.isnull(ds[attr]).to_frame()\n",
    "nulls_df[attr].unique()\n",
    "\n",
    "errors_df = pd.read_csv('soccer/soccer_errors.csv')\n",
    "errors_df['attribute'].unique()"
   ]
  },
  {
   "cell_type": "code",
   "execution_count": null,
   "metadata": {},
   "outputs": [],
   "source": []
  }
 ],
 "metadata": {
  "kernelspec": {
   "display_name": "Python 3",
   "language": "python",
   "name": "python3"
  },
  "language_info": {
   "codemirror_mode": {
    "name": "ipython",
    "version": 3
   },
   "file_extension": ".py",
   "mimetype": "text/x-python",
   "name": "python",
   "nbconvert_exporter": "python",
   "pygments_lexer": "ipython3",
   "version": "3.7.3"
  }
 },
 "nbformat": 4,
 "nbformat_minor": 2
}
