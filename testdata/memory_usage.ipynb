{
 "cells": [
  {
   "cell_type": "code",
   "execution_count": 1,
   "metadata": {},
   "outputs": [
    {
     "name": "stdout",
     "output_type": "stream",
     "text": [
      "78\n",
      "6\n",
      "3\n",
      "15\n",
      "15\n",
      "56\n",
      "4\n",
      "5\n",
      "51\n",
      "9\n",
      "268\n",
      "254\n",
      "73\n"
     ]
    },
    {
     "data": {
      "text/plain": [
       "2.6265793964266777"
      ]
     },
     "execution_count": 1,
     "metadata": {},
     "output_type": "execute_result"
    }
   ],
   "source": [
    "import pandas as pd\n",
    "import math\n",
    "\n",
    "ds_name = 'adult_3'\n",
    "ds = pd.read_csv('confidential/' + ds_name + '/' + ds_name + '.csv')\n",
    "\n",
    "number_of_features = len(ds.columns)\n",
    "number_of_rows = len(ds.index)\n",
    "tensor_size_per_attribute = []\n",
    "for column in ds.columns:\n",
    "    current_domain_size = len(ds[column].unique())\n",
    "    # print(current_domain_size)\n",
    "    tensor_size_per_attribute.append(number_of_rows * current_domain_size * number_of_features)\n",
    "\n",
    "total_usage_b = sum(tensor_size_per_attribute) * 8\n",
    "total_usage_kb = total_usage_b / 1024\n",
    "total_usage_mb = total_usage_kb / 1024\n",
    "total_usage_gb = total_usage_mb / 1024\n",
    "total_usage_gb"
   ]
  },
  {
   "cell_type": "code",
   "execution_count": null,
   "metadata": {},
   "outputs": [],
   "source": []
  }
 ],
 "metadata": {
  "kernelspec": {
   "display_name": "Python 3",
   "language": "python",
   "name": "python3"
  },
  "language_info": {
   "codemirror_mode": {
    "name": "ipython",
    "version": 3
   },
   "file_extension": ".py",
   "mimetype": "text/x-python",
   "name": "python",
   "nbconvert_exporter": "python",
   "pygments_lexer": "ipython3",
   "version": "3.6.8"
  }
 },
 "nbformat": 4,
 "nbformat_minor": 2
}
