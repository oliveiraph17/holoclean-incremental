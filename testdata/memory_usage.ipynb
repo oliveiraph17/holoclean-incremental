{
 "cells": [
  {
   "cell_type": "code",
   "execution_count": 7,
   "metadata": {},
   "outputs": [
    {
     "data": {
      "text/plain": [
       "2.4417774379253387"
      ]
     },
     "execution_count": 7,
     "metadata": {},
     "output_type": "execute_result"
    }
   ],
   "source": [
    "import pandas as pd\n",
    "import math\n",
    "\n",
    "ds_name = 'adult_3'\n",
    "ds = pd.read_csv('confidential/' + ds_name + '/' + ds_name + '.csv')\n",
    "\n",
    "number_of_features = len(ds.columns)\n",
    "number_of_rows = len(ds.index)\n",
    "tensor_size_per_attribute = []\n",
    "for column in ds.columns:\n",
    "    current_domain_size = len(ds[column].unique())\n",
    "    # print(current_domain_size)\n",
    "    tensor_size_per_attribute.append(number_of_rows * current_domain_size * number_of_features)\n",
    "\n",
    "total_usage_b = sum(tensor_size_per_attribute) * 8\n",
    "total_usage_kb = total_usage_b / 1024\n",
    "total_usage_mb = total_usage_kb / 1024\n",
    "total_usage_gb = total_usage_mb / 1024\n",
    "total_usage_gb"
   ]
  },
  {
   "cell_type": "code",
   "execution_count": null,
   "metadata": {},
   "outputs": [],
   "source": []
  }
 ],
 "metadata": {
  "kernelspec": {
   "display_name": "Python 3",
   "language": "python",
   "name": "python3"
  },
  "language_info": {
   "codemirror_mode": {
    "name": "ipython",
    "version": 3
   },
   "file_extension": ".py",
   "mimetype": "text/x-python",
   "name": "python",
   "nbconvert_exporter": "python",
   "pygments_lexer": "ipython3",
   "version": "3.7.3"
  }
 },
 "nbformat": 4,
 "nbformat_minor": 2
}
