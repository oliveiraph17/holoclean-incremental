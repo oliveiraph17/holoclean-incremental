{
 "cells": [
  {
   "cell_type": "code",
   "execution_count": null,
   "metadata": {},
   "outputs": [],
   "source": [
    "import pandas as pd\n",
    "\n",
    "soccer_clean_df = pd.read_csv('soccer/soccer_clean.csv')\n",
    "\n",
    "tid_column_list = soccer_clean_df['tid'].tolist()\n",
    "\n",
    "for i in range(2000000):\n",
    "    tid_column_list[i] -= 1\n",
    "\n",
    "soccer_clean_df['tid'] = pd.Series(tid_column_list)\n",
    "\n",
    "soccer_clean_df.to_csv('soccer/soccer_clean_new.csv', index=False)"
   ]
  },
  {
   "cell_type": "code",
   "execution_count": null,
   "metadata": {},
   "outputs": [],
   "source": [
    "soccer_clean_new_df = pd.read_csv('soccer/soccer_clean_new.csv')\n",
    "soccer_df = pd.read_csv('soccer/soccer.csv')\\\n",
    "\n",
    "soccer_clean_new_df"
   ]
  },
  {
   "cell_type": "code",
   "execution_count": null,
   "metadata": {},
   "outputs": [],
   "source": [
    "error_rows_list = []\n",
    "count = 0\n",
    "for i in range(200000):\n",
    "    for j in range(10):\n",
    "        if str(soccer_df.iloc[i, j]) != str(soccer_clean_new_df.iloc[count, 2]):\n",
    "            soccer_error_dict = {'_tid_': soccer_clean_new_df.iloc[count, 0],\n",
    "                                 'attribute': soccer_clean_new_df.iloc[count, 1]}\n",
    "            error_rows_list.append(soccer_error_dict)\n",
    "        count += 1\n",
    "\n",
    "soccer_errors_df = pd.DataFrame(error_rows_list)\n",
    "\n",
    "soccer_errors_df.to_csv('soccer/soccer_errors.csv', index=False)"
   ]
  },
  {
   "cell_type": "code",
   "execution_count": null,
   "metadata": {},
   "outputs": [],
   "source": []
  }
 ],
 "metadata": {
  "kernelspec": {
   "display_name": "Python 3",
   "language": "python",
   "name": "python3"
  },
  "language_info": {
   "codemirror_mode": {
    "name": "ipython",
    "version": 3
   },
   "file_extension": ".py",
   "mimetype": "text/x-python",
   "name": "python",
   "nbconvert_exporter": "python",
   "pygments_lexer": "ipython3",
   "version": "3.7.3"
  }
 },
 "nbformat": 4,
 "nbformat_minor": 2
}
