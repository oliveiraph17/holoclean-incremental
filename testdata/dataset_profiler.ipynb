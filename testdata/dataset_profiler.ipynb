{
 "cells": [
  {
   "cell_type": "code",
   "execution_count": null,
   "metadata": {},
   "outputs": [],
   "source": [
    "import pandas as pd"
   ]
  },
  {
   "cell_type": "code",
   "execution_count": null,
   "metadata": {},
   "outputs": [],
   "source": [
    "def profile_dataset(dataset_name, max_domain):\n",
    "    df = pd.read_csv(dataset_name + '/' + dataset_name + '.csv')\n",
    "\n",
    "    attr_list = list(df.columns)\n",
    "\n",
    "    print('{} - max_domain: {}'.format(dataset_name, max_domain))\n",
    "    print('======================================================================')\n",
    "    for attr in attr_list:\n",
    "        print('{}: {}'.format(attr, df[attr].nunique()))\n",
    "\n",
    "    print('======================================================================')\n",
    "    number_of_rows = df.shape[0]\n",
    "    print('{} rows'.format(number_of_rows))\n",
    "\n",
    "    print('======================================================================')\n",
    "    if 'shuffled' in dataset_name:\n",
    "        number_of_columns = len(attr_list) - 1\n",
    "    else:\n",
    "        number_of_columns = len(attr_list)\n",
    "    number_of_cells_in_df = number_of_rows * number_of_columns\n",
    "    number_of_cells_in_tensors = number_of_cells_in_df * max_domain * pow(len(attr_list), 2)\n",
    "    memory_usage_gb = (number_of_cells_in_tensors * 4) / 1024 / 1024 / 1024\n",
    "    print('Memory usage for tensor of Full approach: {} GB\\n\\n'.format(memory_usage_gb))\n",
    "    "
   ]
  },
  {
   "cell_type": "code",
   "execution_count": null,
   "metadata": {},
   "outputs": [],
   "source": [
    "profile_dataset('nypd6', 90)"
   ]
  },
  {
   "cell_type": "code",
   "execution_count": null,
   "metadata": {},
   "outputs": [],
   "source": []
  }
 ],
 "metadata": {
  "kernelspec": {
   "display_name": "Python 3",
   "language": "python",
   "name": "python3"
  },
  "language_info": {
   "codemirror_mode": {
    "name": "ipython",
    "version": 3
   },
   "file_extension": ".py",
   "mimetype": "text/x-python",
   "name": "python",
   "nbconvert_exporter": "python",
   "pygments_lexer": "ipython3",
   "version": "3.7.4"
  }
 },
 "nbformat": 4,
 "nbformat_minor": 4
}
