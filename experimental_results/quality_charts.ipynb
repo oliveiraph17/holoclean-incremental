{
 "cells": [
  {
   "cell_type": "code",
   "execution_count": null,
   "metadata": {},
   "outputs": [],
   "source": [
    "import matplotlib.pyplot as plt\n",
    "import pandas as pd\n",
    "\n",
    "from IPython.core.display import display, HTML\n",
    "display(HTML(\"<style>.container { width:100% !important; }</style>\"))"
   ]
  },
  {
   "cell_type": "code",
   "execution_count": null,
   "metadata": {},
   "outputs": [],
   "source": [
    "########################################\n",
    "# DataFrame Setup Function\n",
    "########################################\n",
    "\n",
    "def setup_dataframes(dataset_name, infer_mode, features, attribute=None):\n",
    "    if attribute:\n",
    "        log_path = dataset_name + '/monitoring_' + attribute + '_quality_log.csv'\n",
    "        train = 'train_batch'\n",
    "        infer = 'infer_batch'\n",
    "    else:\n",
    "        log_path = dataset_name + '/monitoring_quality_log.csv'\n",
    "        train = 'skip_training_starting_batch'\n",
    "        infer = 'batch'\n",
    "\n",
    "    df_full = pd.read_csv(log_path, sep=';')\n",
    "    df_full = df_full[['infer_mode', 'features', 'dk_cells', train,\n",
    "                       infer, 'precision', 'recall', 'f1']]\n",
    "\n",
    "    df = df_full.loc[(df_full['infer_mode'] == infer_mode) & (df_full['features'] == features)]\n",
    "\n",
    "    df_list = []\n",
    "    for skip_training_starting_batch in df[train].unique().tolist():\n",
    "        tmp_df = df.loc[df[train] == skip_training_starting_batch]\n",
    "        tmp_df = tmp_df.astype({'dk_cells': 'int32', infer: 'int32',\n",
    "                                'precision': 'float64', 'recall': 'float64', 'f1': 'float64'})\n",
    "\n",
    "        df_list.append(tmp_df)\n",
    "\n",
    "    return df_list"
   ]
  },
  {
   "cell_type": "code",
   "execution_count": null,
   "metadata": {
    "scrolled": true
   },
   "outputs": [],
   "source": [
    "########################################\n",
    "# Chart Plotting Function\n",
    "########################################\n",
    "\n",
    "def plot_charts(df_list, attribute=None):\n",
    "    if attribute:\n",
    "        train = 'train_batch'\n",
    "        infer = 'infer_batch'\n",
    "    else:\n",
    "        train = 'skip_training_starting_batch'\n",
    "        infer = 'batch'\n",
    "\n",
    "    count = 0\n",
    "\n",
    "    chart_rows = 33\n",
    "    chart_columns = 3\n",
    "    fig, axes = plt.subplots(chart_rows, chart_columns, sharex=True, sharey=True,\n",
    "                             figsize=(chart_columns * 7, chart_rows * 5))\n",
    "\n",
    "    for i in range(chart_rows):\n",
    "        for j in range(chart_columns):\n",
    "            current_df = df_list[count]\n",
    "            count += 1\n",
    "            \n",
    "            current_df.loc[current_df['dk_cells'] == 0, ['precision', 'recall', 'f1']] = 1\n",
    "\n",
    "            axes[i, j].plot(infer, 'precision',\n",
    "                            data=current_df, marker='', color=palette(1), label='precision', linewidth=3)\n",
    "            axes[i, j].plot(infer, 'recall',\n",
    "                            data=current_df, marker='', color=palette(2), label='recall', linewidth=3)\n",
    "            axes[i, j].plot(infer, 'f1',\n",
    "                            data=current_df, marker='', color=palette(3), label='f1', linewidth=3)\n",
    "\n",
    "            skip_training_starting_batch = current_df[train].iloc[0]\n",
    "            title_str = 'Training up to batch {}'.format(skip_training_starting_batch)\n",
    "            axes[i, j].set(title=title_str)\n",
    "\n",
    "            if j == 0:\n",
    "                axes[i, j].set(ylabel='Percentage')\n",
    "            if i == chart_rows - 1:\n",
    "                axes[i, j].set(xlabel='Batch')\n",
    "\n",
    "    axes[chart_rows - 1, chart_columns - 1].legend(loc=\"lower left\")\n",
    "    fig.tight_layout()"
   ]
  },
  {
   "cell_type": "code",
   "execution_count": null,
   "metadata": {},
   "outputs": [],
   "source": [
    "########################################\n",
    "# Charts: Setup\n",
    "########################################\n",
    "\n",
    "plt.rcParams.update({'font.size': 18})\n",
    "plt.style.use('seaborn-darkgrid')\n",
    "palette = plt.get_cmap('tab10')"
   ]
  },
  {
   "cell_type": "code",
   "execution_count": null,
   "metadata": {
    "scrolled": false
   },
   "outputs": [],
   "source": [
    "########################################\n",
    "# Charts: Analysis\n",
    "########################################\n",
    "\n",
    "# An attribute name or None.\n",
    "attribute = 'address'\n",
    "\n",
    "# 1st argument: 'dk' or 'all'.\n",
    "# 2nd argument: 'incremental' or 'global'.\n",
    "\n",
    "plot_charts(setup_dataframes('all', 'global', attribute), attribute)"
   ]
  },
  {
   "cell_type": "code",
   "execution_count": null,
   "metadata": {},
   "outputs": [],
   "source": [
    "dataset_name = 'hospital'\n",
    "df = pd.read_csv(dataset_name + '/monitoring_quality_log.csv', sep=';')\n",
    "\n",
    "df"
   ]
  },
  {
   "cell_type": "code",
   "execution_count": null,
   "metadata": {},
   "outputs": [],
   "source": []
  }
 ],
 "metadata": {
  "kernelspec": {
   "display_name": "Python 3",
   "language": "python",
   "name": "python3"
  },
  "language_info": {
   "codemirror_mode": {
    "name": "ipython",
    "version": 3
   },
   "file_extension": ".py",
   "mimetype": "text/x-python",
   "name": "python",
   "nbconvert_exporter": "python",
   "pygments_lexer": "ipython3",
   "version": "3.7.3"
  }
 },
 "nbformat": 4,
 "nbformat_minor": 2
}
